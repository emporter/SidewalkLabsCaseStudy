{
 "cells": [
  {
   "cell_type": "code",
   "execution_count": 1,
   "metadata": {},
   "outputs": [],
   "source": [
    "# settings similar to Tableau\n",
    "import matplotlib.pyplot as plt\n",
    "import seaborn as sns\n",
    "sns.set_style(\"whitegrid\", { 'font.family': 'sans-serif',\n",
    "                            'font.variant': 'small-caps',\n",
    "                            'axes.axisbelow': True,\n",
    "                             'axes.edgecolor': 'lightgrey',\n",
    "                             'axes.grid': True,\n",
    "                             'axes.labelcolor': 'black',\n",
    "                             'axes.spines.right': False,\n",
    "                             'axes.spines.top': False,\n",
    "                             'axes.axisbelow': True,\n",
    "                             'figure.facecolor': 'white',\n",
    "                             'lines.solid_capstyle': 'round',\n",
    "                             'patch.edgecolor': 'w',\n",
    "                             'patch.force_edgecolor': True,\n",
    "                             'text.color': 'black',\n",
    "                             'xtick.bottom': False,\n",
    "                             'xtick.color': 'black',\n",
    "                             'xtick.direction': 'out',\n",
    "                             'xtick.top': False,\n",
    "                             'xtick.labelsize': 16,\n",
    "                             'ytick.labelsize': 16,\n",
    "                             'ytick.labelsize': 16,\n",
    "                             'ytick.color': 'black',\n",
    "                             'ytick.direction': 'out',\n",
    "                             'ytick.left': False,\n",
    "                             'ytick.right': False})\n",
    "\n",
    "sns.set_context(\"notebook\", rc={\"font.size\":18,\n",
    "                                \"axes.titlesie\":18,\n",
    "                                \"axes.labelsize\":18})\n",
    "\n",
    "#color_list = sns.color_palette(\"tab10\")\n",
    "color_list = sns.color_palette(\"husl\", 10)\n",
    "\n",
    "\n",
    "plt.rcParams['axes.prop_cycle'] = plt.cycler(color=color_list)\n",
    "\n",
    "import matplotlib.pylab as pylab\n",
    "params = {'legend.fontsize': 'large',\n",
    "          'figure.figsize': (22, 10),\n",
    "         'axes.labelsize': 'large',\n",
    "         'axes.titlesize':'large',\n",
    "         'xtick.labelsize':'large',\n",
    "         'ytick.labelsize':'large'}\n",
    "pylab.rcParams.update(params)"
   ]
  },
  {
   "cell_type": "code",
   "execution_count": null,
   "metadata": {},
   "outputs": [],
   "source": []
  }
 ],
 "metadata": {
  "kernelspec": {
   "display_name": "Python 3",
   "language": "python",
   "name": "python3"
  },
  "language_info": {
   "codemirror_mode": {
    "name": "ipython",
    "version": 3
   },
   "file_extension": ".py",
   "mimetype": "text/x-python",
   "name": "python",
   "nbconvert_exporter": "python",
   "pygments_lexer": "ipython3",
   "version": "3.8.8"
  }
 },
 "nbformat": 4,
 "nbformat_minor": 4
}
